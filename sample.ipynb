{
 "cells": [
  {
   "cell_type": "markdown",
   "id": "d39acaca-cf77-456c-b376-5dd5f79671ae",
   "metadata": {},
   "source": [
    "# Sample NoteBook "
   ]
  },
  {
   "cell_type": "code",
   "execution_count": 1,
   "id": "10090365-0d0a-4e45-a1d9-8d8df3f07f3b",
   "metadata": {},
   "outputs": [],
   "source": [
    "import numpy"
   ]
  },
  {
   "cell_type": "code",
   "execution_count": 2,
   "id": "c13d5469-7a5a-4abb-ae49-cd1b444f9270",
   "metadata": {},
   "outputs": [
    {
     "data": {
      "text/plain": [
       "array([ 0.84147098, -0.7568025 ,  0.43616476, -0.2794155 ])"
      ]
     },
     "execution_count": 2,
     "metadata": {},
     "output_type": "execute_result"
    }
   ],
   "source": [
    "numpy.sin([1,4,57,6])"
   ]
  },
  {
   "cell_type": "code",
   "execution_count": null,
   "id": "134eaa2c-59d1-4b98-99dc-124a6860ab24",
   "metadata": {},
   "outputs": [],
   "source": []
  }
 ],
 "metadata": {
  "kernelspec": {
   "display_name": "Python 3 (ipykernel)",
   "language": "python",
   "name": "python3"
  },
  "language_info": {
   "codemirror_mode": {
    "name": "ipython",
    "version": 3
   },
   "file_extension": ".py",
   "mimetype": "text/x-python",
   "name": "python",
   "nbconvert_exporter": "python",
   "pygments_lexer": "ipython3",
   "version": "3.10.13"
  }
 },
 "nbformat": 4,
 "nbformat_minor": 5
}
